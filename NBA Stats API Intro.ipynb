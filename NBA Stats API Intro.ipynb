{
 "cells": [
  {
   "cell_type": "code",
   "execution_count": 25,
   "metadata": {},
   "outputs": [],
   "source": [
    "from nba_api.stats.static import teams\n",
    "import pandas as pd\n",
    "import numpy as np\n",
    "import matplotlib.pyplot as plt"
   ]
  },
  {
   "cell_type": "markdown",
   "metadata": {},
   "source": [
    "<h2> Introduction </h2>\n",
    "This is my introduction to the NBA stats API. I was having a conversation with my friends about pace in the NBA in playoff games versus the regular season so I wanted to develop some quick summary statistics. \n",
    "<break>\n",
    "<h2>Methodology</h2>\n",
    "To find pace on the NBA site for a given team its under the team stats page on the NBA stats page, so you find the corresponding endpoint from the API. I definied a function that found the playoff teams for a given year, and then found their pace both in the regular season and in playoffs, took the average of playoff/refular season pace for the whole of the NBA and then graphed it."
   ]
  },
  {
   "cell_type": "code",
   "execution_count": 22,
   "metadata": {
    "scrolled": false
   },
   "outputs": [
    {
     "name": "stdout",
     "output_type": "stream",
     "text": [
      "1\n"
     ]
    }
   ],
   "source": [
    "from nba_api.stats.endpoints import leaguedashteamstats\n",
    "\n",
    "\n",
    "def getPace(year):\n",
    "    #\n",
    "    teams = playoffTeams(year)\n",
    "    season=str(year) + \"-\" + str(year+1)[-2:]\n",
    "    ret = dict()\n",
    "    x = leaguedashteamstats.LeagueDashTeamStats(measure_type_detailed_defense=\"Advanced\",season = season,season_type_all_star=\"Regular Season\").get_dict()\n",
    "    time.sleep(1)\n",
    "    y = leaguedashteamstats.LeagueDashTeamStats(measure_type_detailed_defense=\"Advanced\",season = season,season_type_all_star=\"Playoffs\").get_dict()\n",
    "    x = x['resultSets'][0]['rowSet']\n",
    "    y = y['resultSets'][0]['rowSet']\n",
    "    for team in teams:\n",
    "        for i in x:\n",
    "            if i[0] == team[0]:\n",
    "                ret[team[1]] = [i[23]]\n",
    "        for j in y:\n",
    "            if j[0] == team[0]:\n",
    "                ret[team[1]].append(j[23])\n",
    "    return ret\n",
    "\n",
    "def getPaceAvg(year):\n",
    "    paces = getPace(year)\n",
    "    reg,play = 0,0\n",
    "    for team in paces:\n",
    "        reg+=paces[team][0]\n",
    "        play+=paces[team][1]\n",
    "    reg/= len(paces)\n",
    "    play/= len(paces)\n",
    "    return [reg,play]\n",
    "\n",
    "\n",
    "print(1)"
   ]
  },
  {
   "cell_type": "code",
   "execution_count": 46,
   "metadata": {},
   "outputs": [],
   "source": [
    "from nba_api.stats.endpoints import leaguestandings\n",
    "#get list of playoff teams for 2018-2019 season\n",
    "def playoffTeams(year):\n",
    "    #gets playoff teams from a given year, returns list of lists\n",
    "    ret = []\n",
    "    last = leaguestandings.LeagueStandings(season=year).get_dict()\n",
    "    x =last['resultSets'][0]['rowSet']\n",
    "\n",
    "    for team in x:\n",
    "        if team[7] <= 8:\n",
    "            ret.append([team[2],team[4]])\n",
    "    return ret\n",
    "\n"
   ]
  },
  {
   "cell_type": "code",
   "execution_count": 159,
   "metadata": {},
   "outputs": [
    {
     "name": "stdout",
     "output_type": "stream",
     "text": [
      "1999, 2000, 2001, 2002, 2003, 2004, 2005, 2006, 2007, 2008, 2009, 2010, 2011, 2012, 2013, 2014, 2015, 2016, 2017, 2018, "
     ]
    }
   ],
   "source": [
    "import time\n",
    "years = np.arange(1999,2019)\n",
    "Pavgs = []\n",
    "for i in years:\n",
    "    Pavgs.append(getPaceAvg(i))\n",
    "    time.sleep(3)\n",
    "    print(i,end=\", \")"
   ]
  },
  {
   "cell_type": "code",
   "execution_count": 160,
   "metadata": {
    "scrolled": true
   },
   "outputs": [
    {
     "data": {
      "image/png": "[encoded data removed]",
      "text/plain": [
       "<Figure size 432x288 with 1 Axes>"
      ]
     },
     "metadata": {
      "needs_background": "light"
     },
     "output_type": "display_data"
    }
   ],
   "source": [
    "years = np.arange(1999,2019)\n",
    "plt.plot(years,Pavgs)\n",
    "plt.legend([\"Regular\",\"Playoff\"])\n",
    "plt.xlabel(\"Season Start Year\")\n",
    "plt.ylabel(\"Possesions per 48 minutes\")\n",
    "plt.xticks(np.arange(2000, 2019,2))\n",
    "plt.show()"
   ]
  },
  {
   "cell_type": "markdown",
   "metadata": {},
   "source": [
    "<h3> Hypotheses for two sampled T test for difference in means </h3>\n",
    "$H_0: \\mu_{reg} = \\mu_{play}$<break>\n",
    "    \n",
    "$H_1: \\mu_{reg} > \\mu_{play}$\n"
   ]
  },
  {
   "cell_type": "code",
   "execution_count": 168,
   "metadata": {},
   "outputs": [
    {
     "name": "stdout",
     "output_type": "stream",
     "text": [
      "0.008993844402145738\n"
     ]
    }
   ],
   "source": [
    "from scipy.stats import ttest_ind\n",
    "\n",
    "reg = [i[0] for i in Pavgs]\n",
    "play = [i[1] for i in Pavgs]\n",
    "\n",
    "stat,p = ttest_ind(reg,play)\n",
    "#Since this is a 2 tailed T test we divide the p value by 2\n",
    "p = p/2\n",
    "print(p)"
   ]
  },
  {
   "cell_type": "markdown",
   "metadata": {},
   "source": [
    "Thus, we reject the null hypothesis at a confidence level of 99%, and conclude that mean pace is greater in the regular season than in playoffs.\n",
    "\n",
    "Contrary to my expectations, it appears that playoff pace slows compared to the regular season, which runs contrary to the belief that play elevates in the playoffs and as such moves faster. There could be unseen things at work here and this requires more investigation."
   ]
  },
  {
   "cell_type": "markdown",
   "metadata": {},
   "source": [
    "<h2> Spurs</h2>\n",
    "Because I know the spurs have made the playoffs since 1197, I wanted to see what their pace was like"
   ]
  },
  {
   "cell_type": "code",
   "execution_count": 108,
   "metadata": {},
   "outputs": [],
   "source": [
    "def spurs(year):\n",
    "    teamID = 1610612759\n",
    "    ret = []\n",
    "    season=str(year) + \"-\" + str(year+1)[-2:]\n",
    "    x = leaguedashteamstats.LeagueDashTeamStats(measure_type_detailed_defense=\"Advanced\",season = season,season_type_all_star=\"Regular Season\",team_id_nullable= teamID).get_dict()\n",
    "    time.sleep(1)\n",
    "    y = leaguedashteamstats.LeagueDashTeamStats(measure_type_detailed_defense=\"Advanced\",season = season,season_type_all_star=\"Playoffs\",team_id_nullable= teamID).get_dict()\n",
    "    x = x['resultSets'][0]['rowSet'][0][23]\n",
    "    y = y['resultSets'][0]['rowSet'][0][23]\n",
    "    return [x,y]\n",
    "\n",
    "def spursTime():\n",
    "    years = np.arange(1997,2019)\n",
    "    avgs = []\n",
    "    for i in years:\n",
    "        avgs.append(spurs(i))\n",
    "        time.sleep(3)\n",
    "        print(i,end=\", \")\n",
    "    return avgs\n",
    "\n"
   ]
  },
  {
   "cell_type": "code",
   "execution_count": 110,
   "metadata": {},
   "outputs": [
    {
     "name": "stdout",
     "output_type": "stream",
     "text": [
      "1997, 1998, 1999, 2000, 2001, 2002, 2003, 2004, 2005, 2006, 2007, 2008, 2009, 2010, 2011, 2012, 2013, 2014, 2015, 2016, 2017, 2018, "
     ]
    }
   ],
   "source": [
    "spursAvg = spursTime()\n"
   ]
  },
  {
   "cell_type": "code",
   "execution_count": 148,
   "metadata": {},
   "outputs": [
    {
     "data": {
      "image/png": "[encoded data removed]",
      "text/plain": [
       "<Figure size 432x288 with 1 Axes>"
      ]
     },
     "metadata": {
      "needs_background": "light"
     },
     "output_type": "display_data"
    }
   ],
   "source": [
    "years = np.arange(1997,2019)\n",
    "champs = [spursAvg[i-1997][1] for i in [1999,2003,2005,2007,2014]]\n",
    "plt.plot(years,spursAvg)\n",
    "plt.scatter([1999,2003,2005,2007,2014],champs,color='black')\n",
    "plt.legend([\"Regular\",\"Playoff\",\"Won\"])\n",
    "plt.xlabel(\"Season Start Year\")\n",
    "plt.ylabel(\"Spurs Pace\")\n",
    "plt.xticks(np.arange(1997,2019,2))\n",
    "\n",
    "plt.yticks(np.arange(86,100,2))\n",
    "\n",
    "plt.show()"
   ]
  },
  {
   "cell_type": "markdown",
   "metadata": {},
   "source": [
    "<h3> Hypotheses for two sampled T test for difference in means </h3>\n",
    "$H_0: \\mu_{reg} = \\mu_{play}$<break>\n",
    "    \n",
    "$H_1: \\mu_{reg} > \\mu_{play}$\n"
   ]
  },
  {
   "cell_type": "code",
   "execution_count": 170,
   "metadata": {},
   "outputs": [
    {
     "name": "stdout",
     "output_type": "stream",
     "text": [
      "0.03187053177459999\n"
     ]
    }
   ],
   "source": [
    "reg = [i[0] for i in spursAvg]\n",
    "play = [i[1] for i in spursAvg]\n",
    "\n",
    "sstat,sp = ttest_ind(reg,play)\n",
    "#Since this is a 2 tailed T test we divide the p value by 2\n",
    "sp = sp/2\n",
    "print(sp)"
   ]
  },
  {
   "cell_type": "markdown",
   "metadata": {},
   "source": [
    "Here, we can only reject the Null at the 95% confidence level, so although the difference in means between playoff and regular season basketball is still apparent, it is less strong than the league as a whole.\n",
    "\n",
    "Although you see the same general upward trend in their pace over time,there is less of a clear cut difference with the Spurs."
   ]
  },
  {
   "cell_type": "markdown",
   "metadata": {},
   "source": [
    "<h2>Exploration in Percentage of 3-Point SHots</h2>\n",
    "Just to get more familiar with the API, I decided to look to see if there was a differnce in 3-point Frequency between playoofs and regular season over the whole of the NBA. For this, this is only data from the 2012 Season onward, so the sample size is too small to run any sort of tests on it, but you do see the rise of the 3 point over all across the league.\n",
    "    "
   ]
  },
  {
   "cell_type": "code",
   "execution_count": 85,
   "metadata": {},
   "outputs": [],
   "source": [
    "from nba_api.stats.endpoints import leaguedashteamptshot\n",
    "\n",
    "def get3pp(year):\n",
    "    ret = dict()\n",
    "    teams = playoffTeams(year)\n",
    "    season=str(year) + \"-\" + str(year+1)[-2:]\n",
    "    \n",
    "    x  = leaguedashteamptshot.LeagueDashTeamPtShot(season = season,season_type_all_star=\"Regular Season\").get_dict()\n",
    "    indx=x['resultSets'][0]['headers'].index('FG3A_FREQUENCY')\n",
    "    x = x['resultSets'][0]['rowSet']\n",
    "    \n",
    "    time.sleep(1)\n",
    "    y = leaguedashteamptshot.LeagueDashTeamPtShot(season = season,season_type_all_star=\"Playoffs\").get_dict()\n",
    "    indy= y['resultSets'][0]['headers'].index('FG3A_FREQUENCY')\n",
    "    y = y['resultSets'][0]['rowSet']\n",
    "    \n",
    "    for team in teams:\n",
    "        for i in x:\n",
    "            if i[0] == team[0]:\n",
    "                ret[team[1]] = [i[indx]]\n",
    "        for j in y:\n",
    "            if j[0] == team[0]:\n",
    "                ret[team[1]].append(j[indy])\n",
    "\n",
    "    return ret\n",
    "\n",
    "def get3ppAvg(year):\n",
    "    three = get3pp(year)\n",
    "    reg,play = 0,0\n",
    "    for team in three:\n",
    "        reg+=three[team][0]\n",
    "        play+=three[team][1]\n",
    "    reg/= len(three)\n",
    "    play/= len(three)\n",
    "    return [reg,play]\n",
    "\n",
    "def get3ppAvgTime(start):\n",
    "    years = np.arange(start,2019)\n",
    "    avgs = []\n",
    "    for i in years:\n",
    "        avgs.append(get3ppAvg(i))\n",
    "        time.sleep(3)\n",
    "        print(i,end=\", \")\n",
    "    return avgs"
   ]
  },
  {
   "cell_type": "code",
   "execution_count": 93,
   "metadata": {},
   "outputs": [
    {
     "name": "stdout",
     "output_type": "stream",
     "text": [
      "2013, 2014, 2015, 2016, 2017, 2018, "
     ]
    }
   ],
   "source": [
    "avgs = get3ppAvgTime(2013)"
   ]
  },
  {
   "cell_type": "code",
   "execution_count": 96,
   "metadata": {},
   "outputs": [
    {
     "data": {
      "image/png": "[encoded data removed]",
      "text/plain": [
       "<Figure size 432x288 with 1 Axes>"
      ]
     },
     "metadata": {
      "needs_background": "light"
     },
     "output_type": "display_data"
    }
   ],
   "source": [
    "years = np.arange(2013,2019)\n",
    "plt.plot(years,avgs)\n",
    "plt.legend([\"Regular\",\"Playoff\"])\n",
    "plt.xlabel(\"Season Start Year\")\n",
    "plt.ylabel(\"Three Point Frequency\")\n",
    "plt.xticks(years)\n",
    "plt.show()"
   ]
  }
 ],
 "metadata": {
  "kernelspec": {
   "display_name": "Python 3",
   "language": "python",
   "name": "python3"
  },
  "language_info": {
   "codemirror_mode": {
    "name": "ipython",
    "version": 3
   },
   "file_extension": ".py",
   "mimetype": "text/x-python",
   "name": "python",
   "nbconvert_exporter": "python",
   "pygments_lexer": "ipython3",
   "version": "3.7.3"
  }
 },
 "nbformat": 4,
 "nbformat_minor": 2
}
